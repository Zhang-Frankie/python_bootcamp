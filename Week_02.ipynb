{
 "cells": [
  {
   "cell_type": "code",
   "execution_count": 12,
   "metadata": {},
   "outputs": [
    {
     "name": "stdout",
     "output_type": "stream",
     "text": [
      "30\n"
     ]
    }
   ],
   "source": [
    "x=3\n",
    "y=10\n",
    "result=x*y\n",
    "print(result)"
   ]
  },
  {
   "cell_type": "code",
   "execution_count": 15,
   "metadata": {},
   "outputs": [
    {
     "name": "stdout",
     "output_type": "stream",
     "text": [
      "Hello Frankie\n",
      "Hello Frankie, you are 24 years old!\n",
      "Hello Frankie\n"
     ]
    }
   ],
   "source": [
    "name=\"Frankie\"\n",
    "print(\"Hello {}\".format(name))\n",
    "print(\"Hello {}, you are {} years old!\".format(name,24))\n",
    "print(f\"Hello {name}\")"
   ]
  },
  {
   "cell_type": "code",
   "execution_count": 19,
   "metadata": {},
   "outputs": [
    {
     "name": "stdout",
     "output_type": "stream",
     "text": [
      "Frankie Zhang.\n",
      "HELLO MY FRIENDS\n"
     ]
    }
   ],
   "source": [
    "name=\"Frankie Zhang!\"\n",
    "print(name.replace(\"!\",\".\"))\n",
    "text=\"Hello my friends\"\n",
    "print(text.upper())\n"
   ]
  },
  {
   "cell_type": "code",
   "execution_count": 34,
   "metadata": {},
   "outputs": [
    {
     "name": "stdout",
     "output_type": "stream",
     "text": [
      "**************************************************\n",
      "\t\tFrankie Temple, Inc.\n",
      "\t\t381 Royal Parade, Parkville\n",
      "\t\tMelbourne, AU\n",
      "**************************************************\n",
      "\tProduct Name\tProduct Price\n",
      "\tBooks\t\t$49.95\n",
      "\tComputer\t$579.99\n",
      "\tMonitor\t\t$124.89\n",
      "**************************************************\n",
      "\n",
      "\tThanks for shopping with us today!\n",
      "\n",
      "**************************************************\n"
     ]
    }
   ],
   "source": [
    "#Create a product and price for three items \n",
    "p1_name, p1_price=\"Books\",49.95\n",
    "p2_name,p2_price=\"Computer\",579.99\n",
    "p3_name,p3_price=\"Monitor\",124.89\n",
    "\n",
    "#Create a company name and information\n",
    "company_name=\"Frankie temple, inc.\"\n",
    "company_address=\"381 Royal Parade, Parkville\"\n",
    "company_city=\"Melbourne, AU\"\n",
    "\n",
    "#Declare ending message \n",
    "message=\"Thanks for shopping with us today!\"\n",
    "\n",
    "#Creating a top border\n",
    "print(\"*\"*50)\n",
    "\n",
    "#Print company information \n",
    "print(\"\\t\\t{}\".format(company_name.title()))\n",
    "print(\"\\t\\t{}\".format(company_address))\n",
    "print(\"\\t\\t{}\".format(company_city))\n",
    "print(\"*\"*50)\n",
    "\n",
    "#Print out a header for our items \n",
    "print(\"\\tProduct Name\\tProduct Price\")\n",
    "\n",
    "#Create a print statement for each product\n",
    "print(\"\\t{}\\t\\t${}\".format(p1_name.title(),p1_price))\n",
    "print(\"\\t{}\\t${}\".format(p2_name.title(),p2_price))\n",
    "print(\"\\t{}\\t\\t${}\".format(p3_name.title(),p3_price))\n",
    "print(\"*\"*50)\n",
    "\n",
    "#Output thank you message\n",
    "print(\"\\n\\t{}\\n\".format(message))\n",
    "print(\"*\"*50)\n"
   ]
  },
  {
   "cell_type": "code",
   "execution_count": 7,
   "metadata": {},
   "outputs": [
    {
     "name": "stdout",
     "output_type": "stream",
     "text": [
      "Frankie Frankie\n",
      "<class 'str'>\n",
      "<class 'str'>\n",
      "<class 'str'>\n"
     ]
    }
   ],
   "source": [
    "var1='Frankie'\n",
    "var2=\"Frankie\"\n",
    "print(var1, var2)\n",
    "var3=type(var1)\n",
    "print(var3)\n",
    "print(type(var1))\n",
    "print(type(var2))\n"
   ]
  },
  {
   "cell_type": "code",
   "execution_count": 23,
   "metadata": {},
   "outputs": [
    {
     "name": "stdout",
     "output_type": "stream",
     "text": [
      "olleH\n",
      "olleH\n"
     ]
    }
   ],
   "source": [
    "word=\"Hello\"\n",
    "#If you don't know the variable length\n",
    "print(word[::-1])\n",
    "#If you know the variable length\n",
    "print(word[4::-1])"
   ]
  }
 ],
 "metadata": {
  "kernelspec": {
   "display_name": "base",
   "language": "python",
   "name": "python3"
  },
  "language_info": {
   "codemirror_mode": {
    "name": "ipython",
    "version": 3
   },
   "file_extension": ".py",
   "mimetype": "text/x-python",
   "name": "python",
   "nbconvert_exporter": "python",
   "pygments_lexer": "ipython3",
   "version": "3.12.4"
  }
 },
 "nbformat": 4,
 "nbformat_minor": 2
}
