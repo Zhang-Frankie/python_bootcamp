{
 "cells": [
  {
   "cell_type": "code",
   "execution_count": 4,
   "metadata": {},
   "outputs": [
    {
     "data": {
      "text/plain": [
       "'hello'"
      ]
     },
     "execution_count": 4,
     "metadata": {},
     "output_type": "execute_result"
    }
   ],
   "source": [
    "input(\"what is your name?\")\n",
    "      "
   ]
  },
  {
   "cell_type": "code",
   "execution_count": 5,
   "metadata": {},
   "outputs": [
    {
     "name": "stdout",
     "output_type": "stream",
     "text": [
      "Hello Frankie!\n"
     ]
    }
   ],
   "source": [
    "ans = input(\"What is your name?\")\n",
    "print(\"Hello {}!\".format(ans))"
   ]
  },
  {
   "cell_type": "code",
   "execution_count": 7,
   "metadata": {},
   "outputs": [
    {
     "name": "stdout",
     "output_type": "stream",
     "text": [
      "<class 'str'>\n",
      "<class 'int'>\n"
     ]
    }
   ],
   "source": [
    "num=\"9\"\n",
    "print(type(num))\n",
    "num=int(num)\n",
    "print(type(num))"
   ]
  },
  {
   "cell_type": "code",
   "execution_count": 10,
   "metadata": {},
   "outputs": [
    {
     "name": "stdout",
     "output_type": "stream",
     "text": [
      "<class 'str'>\n",
      "Your answer is 200.\n"
     ]
    }
   ],
   "source": [
    "ans=input(\"Type a number to add:\")\n",
    "print(type(ans))\n",
    "result=100+int(ans)\n",
    "print(\"Your answer is {}.\".format(result))"
   ]
  },
  {
   "cell_type": "code",
   "execution_count": 13,
   "metadata": {},
   "outputs": [
    {
     "name": "stdout",
     "output_type": "stream",
     "text": [
      "You did not input a valid number!\n"
     ]
    }
   ],
   "source": [
    "try: \n",
    "    ans=float(input(\"Type a number to add:\"))\n",
    "    print(\"100 + {} = {}\".format(ans, 100+ans))\n",
    "\n",
    "except:\n",
    "    print(\"You did not input a valid number!\")\n",
    "    "
   ]
  },
  {
   "cell_type": "code",
   "execution_count": 15,
   "metadata": {},
   "outputs": [
    {
     "name": "stdout",
     "output_type": "stream",
     "text": [
      "x is less than y\n"
     ]
    }
   ],
   "source": [
    "x,y=5,10\n",
    "if x<y:\n",
    "    print(\"x is less than y\")"
   ]
  },
  {
   "cell_type": "code",
   "execution_count": 17,
   "metadata": {},
   "outputs": [
    {
     "name": "stdout",
     "output_type": "stream",
     "text": [
      "Yes\n"
     ]
    }
   ],
   "source": [
    "ans=int(input(\"What is 5+5?\"))\n",
    "if ans==10:\n",
    "    print(\"Yes\")"
   ]
  },
  {
   "cell_type": "code",
   "execution_count": 18,
   "metadata": {},
   "outputs": [
    {
     "name": "stdout",
     "output_type": "stream",
     "text": [
      "Baseball contains the character b\n"
     ]
    }
   ],
   "source": [
    "word=\"Baseball\"\n",
    "if \"b\" in word:\n",
    "    print(\"{} contains the character b\".format(word))\n",
    "    "
   ]
  },
  {
   "cell_type": "markdown",
   "metadata": {},
   "source": [
    "elif statements"
   ]
  },
  {
   "cell_type": "code",
   "execution_count": 22,
   "metadata": {},
   "outputs": [
    {
     "name": "stdout",
     "output_type": "stream",
     "text": [
      "Your number is 30.0, which is a <class 'float'>.\n"
     ]
    }
   ],
   "source": [
    "#Write a block of code that asks for an input, the input should be a number, and then it should output the number and what type of variable it is.\n",
    "num=float(input(\"Please input a number\"))\n",
    "print(\"Your number is {}, which is a {}.\".format(num, type(num)))\n"
   ]
  },
  {
   "cell_type": "code",
   "execution_count": 23,
   "metadata": {},
   "outputs": [],
   "source": [
    "#Calculator\n",
    "operation=input(\"Would you like to add/subtract/multiply/divide? \")"
   ]
  },
  {
   "cell_type": "code",
   "execution_count": 26,
   "metadata": {},
   "outputs": [
    {
     "name": "stdout",
     "output_type": "stream",
     "text": [
      "1023 is bigger than 101\n"
     ]
    }
   ],
   "source": [
    "#Input two numbers and determine which one is the biggest\n",
    "num1=int(input(\"Write number 1\"))\n",
    "num2=int(input(\"Write number 2\"))\n",
    "if num1>num2:\n",
    "    print(\"{} is bigger.\".format(num1))\n",
    "\n",
    "elif num1==num2:\n",
    "    print(\"{} is equal to {}\".format(num1,num2))\n",
    "\n",
    "else:\n",
    "    print(\"{} is bigger than {}\".format(num2,num1))\n",
    "    \n"
   ]
  }
 ],
 "metadata": {
  "kernelspec": {
   "display_name": "base",
   "language": "python",
   "name": "python3"
  },
  "language_info": {
   "codemirror_mode": {
    "name": "ipython",
    "version": 3
   },
   "file_extension": ".py",
   "mimetype": "text/x-python",
   "name": "python",
   "nbconvert_exporter": "python",
   "pygments_lexer": "ipython3",
   "version": "3.12.4"
  }
 },
 "nbformat": 4,
 "nbformat_minor": 2
}
