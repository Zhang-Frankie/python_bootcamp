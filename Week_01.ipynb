{
 "cells": [
  {
   "cell_type": "code",
   "execution_count": null,
   "metadata": {},
   "outputs": [],
   "source": []
  },
  {
   "cell_type": "markdown",
   "metadata": {},
   "source": [
    "Python code attempt 1\n"
   ]
  },
  {
   "cell_type": "code",
   "execution_count": 2,
   "metadata": {},
   "outputs": [
    {
     "name": "stdout",
     "output_type": "stream",
     "text": [
      "Hello World\n",
      "Test\n"
     ]
    }
   ],
   "source": [
    "print(\"Hello World\")\n",
    "print(\"Test\")\n",
    "\n"
   ]
  },
  {
   "cell_type": "code",
   "execution_count": 4,
   "metadata": {},
   "outputs": [
    {
     "name": "stdout",
     "output_type": "stream",
     "text": [
      "Invalid DNA sequence. Please enter a sequence containing only A, T, C, and G.\n"
     ]
    }
   ],
   "source": [
    "# Function to calculate GC content\n",
    "def calculate_gc_content(dna_sequence):\n",
    "    # Convert sequence to uppercase to handle both upper and lower case inputs\n",
    "    dna_sequence = dna_sequence.upper()\n",
    "\n",
    "    # Calculate the count of G and C nucleotides\n",
    "    g_count = dna_sequence.count('G')\n",
    "    c_count = dna_sequence.count('C')\n",
    "\n",
    "    # Calculate the total GC content\n",
    "    gc_content = (g_count + c_count) / len(dna_sequence) * 100\n",
    "\n",
    "    return gc_content\n",
    "\n",
    "# Main program\n",
    "if __name__ == \"__main__\":\n",
    "    # Input DNA sequence from the user\n",
    "    dna_sequence = input(\"Enter a DNA sequence: \")\n",
    "\n",
    "    # Check if the input contains only valid DNA nucleotides\n",
    "    valid_nucleotides = {'A', 'T', 'C', 'G'}\n",
    "    if set(dna_sequence.upper()) <= valid_nucleotides:\n",
    "        # Calculate and print the GC content\n",
    "        gc_percentage = calculate_gc_content(dna_sequence)\n",
    "        print(f\"GC content: {gc_percentage:.2f}%\")\n",
    "    else:\n",
    "        print(\"Invalid DNA sequence. Please enter a sequence containing only A, T, C, and G.\")\n"
   ]
  },
  {
   "cell_type": "code",
   "execution_count": 5,
   "metadata": {},
   "outputs": [
    {
     "name": "stdout",
     "output_type": "stream",
     "text": [
      "Cleaned DNA sequence: ATGGCGGATTCCAGCGAAGGCCCCCGCGCGGGGCCCGGGGAGGTGGCTGAGCTCCCCGGGGATGAGAGTGGCACCCCAGGTGGGGAGGCTTTTCCTCTCTCCTCCCTGGCCAATCTGTTTGAGGGGGAGGATGGCTCCCTTTCGCCCTCACCGGCTGATGCCAGTCGCCCTGCTGGCCCAGGCGATGGGCGACCAAATCTGCGCATGAAGTTCCAGGGCGCCTTCCGCAAGGGGGTGCCCAACCCCATCGATCTGCTGGAGTCCACCCTATATGAGTCCTCGGTGGTGCCTGGGCCCAAGAAAGCACCCATGGACTCACTGTTTGACTACGGCACCTATCGTCACCACTCCAGTGACAACAAGAGGTGGAGGAAGAAGATCATAGAGAAGCAGCCGCAGAGCCCCAAAGCCCCTGCCCCTCAGCCGCCCCCCATCCTCAAAGTCTTCAACCGGCCTATCCTCTTTGACATCGTGTCCCGGGGCTCCACTGCTGACCTGGACGGGCTGCTCCCATTCTTGCTGACCCACAAGAAACGCCTAACTGATGAGGAGTTTCGAGAGCCATCTACGGGGAAGACCTGCCTGCCCAAGGCCTTGCTGAACCTGAGCAATGGCCGCAACGACACCATCCCTGTGCTGCTGGACATCGCGGAGCGCACCGGCAACATGCGGGAGTTCATTAACTCGCCCTTCCGTGACATCTACTATCGAGGTCAGACAGCCCTGCACATCGCCATTGAGCGTCGCTGCAAACACTACGTGGAACTTCTCGTGGCCCAGGGAGCTGATGTCCACGCCCAGGCCCGTGGGCGCTTCTTCCAGCCCAAGGATGAGGGGGGCTACTTCTACTTTGGGGAGCTGCCCCTGTCGCTGGCTGCCTGCACCAACCAGCCCCACATTGTCAACTACCTGACGGAGAACCCCCACAAGAAGGCGGACATGCGGCGCCAGGACTCGCGAGGCAACACAGTGCTGCATGCGCTGGTGGCCATTGCTGACAACACCCGTGAGAACACCAAGTTTGTTACCAAGATGTACGACCTGCTGCTGCTCAAGTGTGCCCGCCTCTTCCCCGACAGCAACCTGGAGGCCGTGCTCAACAACGACGGCCTCTCGCCCCTCATGATGGCTGCCAAGACGGGCAAGATTGGGATCTTTCAGCACATCATCCGGCGGGAGGTGACGGATGAGGACACACGGCACCTGTCCCGCAAGTTCAAGGACTGGGCCTATGGGCCAGTGTATTCCTCGCTTTATGACCTCTCCTCCCTGGACACGTGTGGGGAAGAGGCCTCCGTGCTGGAGATCCTGGTGTACAACAGCAAGATTGAGAACCGCCACGAGATGCTGGCTGTGGAGCCCATCAATGAACTGCTGCGGGACAAGTGGCGCAAGTTCGGGGCCGTCTCCTTCTACATCAACGTGGTCTCCTACCTGTGTGCCATGGTCATCTTCACTCTCACCGCCTACTACCAGCCGCTGGAGGGCACACCGCCGTACCCTTACCGCACCACGGTGGACTACCTGCGGCTGGCTGGCGAGGTCATTACGCTCTTCACTGGGGTCCTGTTCTTCTTCACCAACATCAAAGACTTGTTCATGAAGAAATGCCCTGGAGTGAATTCTCTCTTCATTGATGGCTCCTTCCAGCTGCTCTACTTCATCTACTCTGTCCTGGTGATCGTCTCAGCAGCCCTCTACCTGGCAGGGATCGAGGCCTACCTGGCCGTGATGGTCTTTGCCCTGGTCCTGGGCTGGATGAATGCCCTTTACTTCACCCGTGGGCTGAAGCTGACGGGGACCTATAGCATCATGATCCAGAAGATTCTCTTCAAGGACCTTTTCCGATTCCTGCTCGTCTACTTGCTCTTCATGATCGGCTACGCTTCAGCCCTGGTCTCCCTCCTGAACCCGTGTGCCAACATGAAGGTGTGCAATGAGGACCAGACCAACTGCACAGTGCCCACTTACCCCTCGTGCCGTGACAGCGAGACCTTCAGCACCTTCCTCCTGGACCTGTTTAAGCTGACCATCGGCATGGGCGACCTGGAGATGCTGAGCAGCACCAAGTACCCCGTGGTCTTCATCATCCTGCTGGTGACCTACATCATCCTCACCTTTGTGCTGCTCCTCAACATGCTCATTGCCCTCATGGGCGAGACAGTGGGCCAGGTCTCCAAGGAGAGCAAGCACATCTGGAAGCTGCAGTGGGCCACCACCATCCTGGACATTGAGCGCTCCTTCCCCGTATTCCTGAGGAAGGCCTTCCGCTCTGGGGAGATGGTCACCGTGGGCAAGAGCTCGGACGGCACTCCTGACCGCAGGTGGTGCTTCAGGGTGGATGAGGTGAACTGGTCTCACTGGAACCAGAACTTGGGCATCATCAACGAGGACCCGGGCAAGAATGAGACCTACCAGTATTATGGCTTCTCGCATACCGTGGGCCGCCTCCGCAGGGATCGCTGGTCCTCGGTGGTACCCCGCGTGGTGGAACTGAACAAGAACTCGAACCCGGACGAGGTGGTGGTGCCTCTGGACAGCATGGGGAACCCCCGCTGCGATGGCCACCAGCAGGGTTACCCCCGCAAGTGGAGGACTGAGGACGCCCCGCTCTAG\n",
      "GC content: 59.56%\n"
     ]
    }
   ],
   "source": [
    "# Function to calculate GC content\n",
    "def calculate_gc_content(dna_sequence):\n",
    "    # Remove spaces and non-nucleotide characters (keep only A, T, C, G)\n",
    "    cleaned_sequence = ''.join([nuc for nuc in dna_sequence.upper() if nuc in 'ATCG'])\n",
    "\n",
    "    # Calculate the count of G and C nucleotides\n",
    "    g_count = cleaned_sequence.count('G')\n",
    "    c_count = cleaned_sequence.count('C')\n",
    "\n",
    "    # Avoid division by zero in case of an empty sequence after cleaning\n",
    "    if len(cleaned_sequence) == 0:\n",
    "        return 0\n",
    "\n",
    "    # Calculate the total GC content\n",
    "    gc_content = (g_count + c_count) / len(cleaned_sequence) * 100\n",
    "\n",
    "    return gc_content\n",
    "\n",
    "# Main program\n",
    "if __name__ == \"__main__\":\n",
    "    # Input DNA sequence from the user\n",
    "    dna_sequence = input(\"Enter a DNA sequence: \")\n",
    "\n",
    "    # Filter spaces, numbers, and invalid characters\n",
    "    valid_nucleotides = {'A', 'T', 'C', 'G'}\n",
    "    \n",
    "    # Calculate and print the GC content\n",
    "    gc_percentage = calculate_gc_content(dna_sequence)\n",
    "    print(f\"Cleaned DNA sequence: {''.join([nuc for nuc in dna_sequence.upper() if nuc in valid_nucleotides])}\")\n",
    "    print(f\"GC content: {gc_percentage:.2f}%\")\n"
   ]
  }
 ],
 "metadata": {
  "kernelspec": {
   "display_name": "base",
   "language": "python",
   "name": "python3"
  },
  "language_info": {
   "codemirror_mode": {
    "name": "ipython",
    "version": 3
   },
   "file_extension": ".py",
   "mimetype": "text/x-python",
   "name": "python",
   "nbconvert_exporter": "python",
   "pygments_lexer": "ipython3",
   "version": "3.12.4"
  }
 },
 "nbformat": 4,
 "nbformat_minor": 2
}
